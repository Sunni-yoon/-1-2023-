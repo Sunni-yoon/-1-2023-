{
 "cells": [
  {
   "cell_type": "code",
   "execution_count": 36,
   "id": "d8fd71eb",
   "metadata": {},
   "outputs": [],
   "source": [
    "import pandas as pd\n",
    "import numpy as np\n",
    "\n",
    "data = pd.read_csv(\"police2.csv\")"
   ]
  },
  {
   "cell_type": "markdown",
   "id": "7553cd4d",
   "metadata": {},
   "source": [
    "## 데이터 분포 확인"
   ]
  },
  {
   "cell_type": "code",
   "execution_count": 54,
   "id": "cca8a77e",
   "metadata": {},
   "outputs": [],
   "source": [
    "df = data"
   ]
  },
  {
   "cell_type": "code",
   "execution_count": 38,
   "id": "c6c6b841",
   "metadata": {},
   "outputs": [
    {
     "data": {
      "text/plain": [
       "Index(['Unnamed: 0', 'NPA_CL', 'EVT_STAT_CD', 'EVT_CL_CD', 'HPPN_PNU_ADDR',\n",
       "       'SME_EVT_YN', '1', '2', '3', 'RECV_CPLT_DM', 'year', 'month', 'hour',\n",
       "       '대전', '세종', '충남'],\n",
       "      dtype='object')"
      ]
     },
     "execution_count": 38,
     "metadata": {},
     "output_type": "execute_result"
    }
   ],
   "source": [
    "df.keys()"
   ]
  },
  {
   "cell_type": "code",
   "execution_count": 39,
   "id": "22caa76c",
   "metadata": {},
   "outputs": [
    {
     "name": "stdout",
     "output_type": "stream",
     "text": [
      "<class 'pandas.core.frame.DataFrame'>\n",
      "RangeIndex: 2644824 entries, 0 to 2644823\n",
      "Data columns (total 16 columns):\n",
      " #   Column         Dtype \n",
      "---  ------         ----- \n",
      " 0   Unnamed: 0     int64 \n",
      " 1   NPA_CL         int64 \n",
      " 2   EVT_STAT_CD    int64 \n",
      " 3   EVT_CL_CD      int64 \n",
      " 4   HPPN_PNU_ADDR  object\n",
      " 5   SME_EVT_YN     object\n",
      " 6   1              int64 \n",
      " 7   2              int64 \n",
      " 8   3              int64 \n",
      " 9   RECV_CPLT_DM   object\n",
      " 10  year           int64 \n",
      " 11  month          int64 \n",
      " 12  hour           int64 \n",
      " 13  대전             int64 \n",
      " 14  세종             int64 \n",
      " 15  충남             int64 \n",
      "dtypes: int64(13), object(3)\n",
      "memory usage: 322.9+ MB\n"
     ]
    }
   ],
   "source": [
    "df.info()"
   ]
  },
  {
   "cell_type": "code",
   "execution_count": 40,
   "id": "0e32e323",
   "metadata": {
    "scrolled": true
   },
   "outputs": [
    {
     "data": {
      "text/html": [
       "<div>\n",
       "<style scoped>\n",
       "    .dataframe tbody tr th:only-of-type {\n",
       "        vertical-align: middle;\n",
       "    }\n",
       "\n",
       "    .dataframe tbody tr th {\n",
       "        vertical-align: top;\n",
       "    }\n",
       "\n",
       "    .dataframe thead th {\n",
       "        text-align: right;\n",
       "    }\n",
       "</style>\n",
       "<table border=\"1\" class=\"dataframe\">\n",
       "  <thead>\n",
       "    <tr style=\"text-align: right;\">\n",
       "      <th></th>\n",
       "      <th>NPA_CL</th>\n",
       "      <th>EVT_STAT_CD</th>\n",
       "      <th>EVT_CL_CD</th>\n",
       "      <th>HPPN_PNU_ADDR</th>\n",
       "      <th>SME_EVT_YN</th>\n",
       "      <th>1</th>\n",
       "      <th>2</th>\n",
       "      <th>3</th>\n",
       "      <th>RECV_CPLT_DM</th>\n",
       "      <th>year</th>\n",
       "      <th>month</th>\n",
       "      <th>hour</th>\n",
       "      <th>대전</th>\n",
       "      <th>세종</th>\n",
       "      <th>충남</th>\n",
       "    </tr>\n",
       "  </thead>\n",
       "  <tbody>\n",
       "    <tr>\n",
       "      <th>0</th>\n",
       "      <td>19</td>\n",
       "      <td>10</td>\n",
       "      <td>0</td>\n",
       "      <td>충청남도 보령시 궁촌동(행정:대천4동) 369</td>\n",
       "      <td>Y</td>\n",
       "      <td>1</td>\n",
       "      <td>0</td>\n",
       "      <td>0</td>\n",
       "      <td>2020-12-01 01:43:07</td>\n",
       "      <td>2020</td>\n",
       "      <td>12</td>\n",
       "      <td>1</td>\n",
       "      <td>0</td>\n",
       "      <td>0</td>\n",
       "      <td>1</td>\n",
       "    </tr>\n",
       "    <tr>\n",
       "      <th>1</th>\n",
       "      <td>13</td>\n",
       "      <td>10</td>\n",
       "      <td>0</td>\n",
       "      <td>0</td>\n",
       "      <td>0</td>\n",
       "      <td>0</td>\n",
       "      <td>0</td>\n",
       "      <td>1</td>\n",
       "      <td>2020-12-01 02:05:04</td>\n",
       "      <td>2020</td>\n",
       "      <td>12</td>\n",
       "      <td>2</td>\n",
       "      <td>1</td>\n",
       "      <td>0</td>\n",
       "      <td>0</td>\n",
       "    </tr>\n",
       "    <tr>\n",
       "      <th>2</th>\n",
       "      <td>13</td>\n",
       "      <td>10</td>\n",
       "      <td>0</td>\n",
       "      <td>0</td>\n",
       "      <td>0</td>\n",
       "      <td>1</td>\n",
       "      <td>0</td>\n",
       "      <td>0</td>\n",
       "      <td>2020-12-01 02:06:52</td>\n",
       "      <td>2020</td>\n",
       "      <td>12</td>\n",
       "      <td>2</td>\n",
       "      <td>1</td>\n",
       "      <td>0</td>\n",
       "      <td>0</td>\n",
       "    </tr>\n",
       "    <tr>\n",
       "      <th>3</th>\n",
       "      <td>19</td>\n",
       "      <td>10</td>\n",
       "      <td>0</td>\n",
       "      <td>충청남도 보령시 천북면 하만리 628-10</td>\n",
       "      <td>N</td>\n",
       "      <td>0</td>\n",
       "      <td>0</td>\n",
       "      <td>1</td>\n",
       "      <td>2020-12-01 02:37:25</td>\n",
       "      <td>2020</td>\n",
       "      <td>12</td>\n",
       "      <td>2</td>\n",
       "      <td>0</td>\n",
       "      <td>0</td>\n",
       "      <td>1</td>\n",
       "    </tr>\n",
       "    <tr>\n",
       "      <th>4</th>\n",
       "      <td>19</td>\n",
       "      <td>10</td>\n",
       "      <td>0</td>\n",
       "      <td>충청남도 천안시 서북구 성정동(행정:성정2동) 1259</td>\n",
       "      <td>0</td>\n",
       "      <td>0</td>\n",
       "      <td>1</td>\n",
       "      <td>0</td>\n",
       "      <td>2020-12-01 08:17:50</td>\n",
       "      <td>2020</td>\n",
       "      <td>12</td>\n",
       "      <td>8</td>\n",
       "      <td>0</td>\n",
       "      <td>0</td>\n",
       "      <td>1</td>\n",
       "    </tr>\n",
       "    <tr>\n",
       "      <th>...</th>\n",
       "      <td>...</td>\n",
       "      <td>...</td>\n",
       "      <td>...</td>\n",
       "      <td>...</td>\n",
       "      <td>...</td>\n",
       "      <td>...</td>\n",
       "      <td>...</td>\n",
       "      <td>...</td>\n",
       "      <td>...</td>\n",
       "      <td>...</td>\n",
       "      <td>...</td>\n",
       "      <td>...</td>\n",
       "      <td>...</td>\n",
       "      <td>...</td>\n",
       "      <td>...</td>\n",
       "    </tr>\n",
       "    <tr>\n",
       "      <th>2644819</th>\n",
       "      <td>13</td>\n",
       "      <td>10</td>\n",
       "      <td>0</td>\n",
       "      <td>대전광역시 유성구 봉명동 (행정:원신흥동 ) 1016-7</td>\n",
       "      <td>0</td>\n",
       "      <td>1</td>\n",
       "      <td>0</td>\n",
       "      <td>0</td>\n",
       "      <td>2023-01-12 11:23:09</td>\n",
       "      <td>2023</td>\n",
       "      <td>1</td>\n",
       "      <td>11</td>\n",
       "      <td>1</td>\n",
       "      <td>0</td>\n",
       "      <td>0</td>\n",
       "    </tr>\n",
       "    <tr>\n",
       "      <th>2644820</th>\n",
       "      <td>19</td>\n",
       "      <td>10</td>\n",
       "      <td>0</td>\n",
       "      <td>충청남도 서산시 음암면 부장리(음암면 ) 560-4</td>\n",
       "      <td>0</td>\n",
       "      <td>0</td>\n",
       "      <td>1</td>\n",
       "      <td>0</td>\n",
       "      <td>2023-01-16 11:59:47</td>\n",
       "      <td>2023</td>\n",
       "      <td>1</td>\n",
       "      <td>11</td>\n",
       "      <td>0</td>\n",
       "      <td>0</td>\n",
       "      <td>1</td>\n",
       "    </tr>\n",
       "    <tr>\n",
       "      <th>2644821</th>\n",
       "      <td>19</td>\n",
       "      <td>10</td>\n",
       "      <td>0</td>\n",
       "      <td>0</td>\n",
       "      <td>0</td>\n",
       "      <td>0</td>\n",
       "      <td>0</td>\n",
       "      <td>1</td>\n",
       "      <td>2023-01-16 11:58:54</td>\n",
       "      <td>2023</td>\n",
       "      <td>1</td>\n",
       "      <td>11</td>\n",
       "      <td>0</td>\n",
       "      <td>0</td>\n",
       "      <td>1</td>\n",
       "    </tr>\n",
       "    <tr>\n",
       "      <th>2644822</th>\n",
       "      <td>19</td>\n",
       "      <td>10</td>\n",
       "      <td>0</td>\n",
       "      <td>0</td>\n",
       "      <td>0</td>\n",
       "      <td>0</td>\n",
       "      <td>0</td>\n",
       "      <td>1</td>\n",
       "      <td>2023-01-14 01:00:47</td>\n",
       "      <td>2023</td>\n",
       "      <td>1</td>\n",
       "      <td>1</td>\n",
       "      <td>0</td>\n",
       "      <td>0</td>\n",
       "      <td>1</td>\n",
       "    </tr>\n",
       "    <tr>\n",
       "      <th>2644823</th>\n",
       "      <td>13</td>\n",
       "      <td>10</td>\n",
       "      <td>0</td>\n",
       "      <td>0</td>\n",
       "      <td>0</td>\n",
       "      <td>1</td>\n",
       "      <td>0</td>\n",
       "      <td>0</td>\n",
       "      <td>2023-01-14 01:22:31</td>\n",
       "      <td>2023</td>\n",
       "      <td>1</td>\n",
       "      <td>1</td>\n",
       "      <td>1</td>\n",
       "      <td>0</td>\n",
       "      <td>0</td>\n",
       "    </tr>\n",
       "  </tbody>\n",
       "</table>\n",
       "<p>2644824 rows × 15 columns</p>\n",
       "</div>"
      ],
      "text/plain": [
       "         NPA_CL  EVT_STAT_CD  EVT_CL_CD                    HPPN_PNU_ADDR  \\\n",
       "0            19           10          0        충청남도 보령시 궁촌동(행정:대천4동) 369   \n",
       "1            13           10          0                                0   \n",
       "2            13           10          0                                0   \n",
       "3            19           10          0         충청남도 보령시 천북면 하만리 628-10    \n",
       "4            19           10          0   충청남도 천안시 서북구 성정동(행정:성정2동) 1259   \n",
       "...         ...          ...        ...                              ...   \n",
       "2644819      13           10          0  대전광역시 유성구 봉명동 (행정:원신흥동 ) 1016-7   \n",
       "2644820      19           10          0     충청남도 서산시 음암면 부장리(음암면 ) 560-4   \n",
       "2644821      19           10          0                                0   \n",
       "2644822      19           10          0                                0   \n",
       "2644823      13           10          0                                0   \n",
       "\n",
       "        SME_EVT_YN  1  2  3         RECV_CPLT_DM  year  month  hour  대전  세종  \\\n",
       "0                Y  1  0  0  2020-12-01 01:43:07  2020     12     1   0   0   \n",
       "1                0  0  0  1  2020-12-01 02:05:04  2020     12     2   1   0   \n",
       "2                0  1  0  0  2020-12-01 02:06:52  2020     12     2   1   0   \n",
       "3                N  0  0  1  2020-12-01 02:37:25  2020     12     2   0   0   \n",
       "4                0  0  1  0  2020-12-01 08:17:50  2020     12     8   0   0   \n",
       "...            ... .. .. ..                  ...   ...    ...   ...  ..  ..   \n",
       "2644819          0  1  0  0  2023-01-12 11:23:09  2023      1    11   1   0   \n",
       "2644820          0  0  1  0  2023-01-16 11:59:47  2023      1    11   0   0   \n",
       "2644821          0  0  0  1  2023-01-16 11:58:54  2023      1    11   0   0   \n",
       "2644822          0  0  0  1  2023-01-14 01:00:47  2023      1     1   0   0   \n",
       "2644823          0  1  0  0  2023-01-14 01:22:31  2023      1     1   1   0   \n",
       "\n",
       "         충남  \n",
       "0         1  \n",
       "1         0  \n",
       "2         0  \n",
       "3         1  \n",
       "4         1  \n",
       "...      ..  \n",
       "2644819   0  \n",
       "2644820   1  \n",
       "2644821   1  \n",
       "2644822   1  \n",
       "2644823   0  \n",
       "\n",
       "[2644824 rows x 15 columns]"
      ]
     },
     "execution_count": 40,
     "metadata": {},
     "output_type": "execute_result"
    }
   ],
   "source": [
    "df.drop('Unnamed: 0',axis=1,inplace=True)\n",
    "df"
   ]
  },
  {
   "cell_type": "markdown",
   "id": "4323438d",
   "metadata": {},
   "source": [
    "## library"
   ]
  },
  {
   "cell_type": "code",
   "execution_count": 41,
   "id": "98fdad64",
   "metadata": {},
   "outputs": [],
   "source": [
    "import os\n",
    "import pandas as pd\n",
    "import numpy as np\n",
    "import matplotlib.pyplot as plt\n",
    "%matplotlib inline\n",
    "\n",
    "from datetime import datetime\n",
    "from sklearn import preprocessing\n",
    "from sklearn.model_selection import train_test_split\n",
    "from sklearn.metrics import *\n",
    "from imblearn.over_sampling import SMOTE\n",
    "\n",
    "from keras.models import Sequential\n",
    "from keras.layers import Dense, LSTM\n",
    "from keras.preprocessing import sequence\n",
    "from keras.utils import np_utils\n",
    "from keras.callbacks import EarlyStopping, ModelCheckpoint\n",
    "from sklearn.metrics import accuracy_score # 정확도 함수\n",
    "from sklearn.svm import SVC\n",
    "from sklearn.inspection import permutation_importance"
   ]
  },
  {
   "cell_type": "code",
   "execution_count": 42,
   "id": "5523eddd",
   "metadata": {},
   "outputs": [],
   "source": [
    "os.getcwd() # 현재 위치 확인\n",
    "path = os.getcwd() # 현재 위치를 path 변수에 저장\n",
    "os.chdir(path) # 현재 위치 변경"
   ]
  },
  {
   "cell_type": "code",
   "execution_count": 55,
   "id": "4c632d06",
   "metadata": {
    "scrolled": true
   },
   "outputs": [],
   "source": [
    "encoder =  preprocessing.LabelEncoder() \n",
    "df['EVT_CL_CD'] = encoder.fit_transform(df['EVT_CL_CD'])\n",
    "df['EVT_CL_CD'] = df['EVT_CL_CD'].astype('float32')"
   ]
  },
  {
   "cell_type": "code",
   "execution_count": 56,
   "id": "aa2754fc",
   "metadata": {},
   "outputs": [
    {
     "data": {
      "text/html": [
       "<div>\n",
       "<style scoped>\n",
       "    .dataframe tbody tr th:only-of-type {\n",
       "        vertical-align: middle;\n",
       "    }\n",
       "\n",
       "    .dataframe tbody tr th {\n",
       "        vertical-align: top;\n",
       "    }\n",
       "\n",
       "    .dataframe thead th {\n",
       "        text-align: right;\n",
       "    }\n",
       "</style>\n",
       "<table border=\"1\" class=\"dataframe\">\n",
       "  <thead>\n",
       "    <tr style=\"text-align: right;\">\n",
       "      <th></th>\n",
       "      <th>year</th>\n",
       "      <th>대전</th>\n",
       "      <th>세종</th>\n",
       "      <th>충남</th>\n",
       "      <th>EVT_CL_CD</th>\n",
       "    </tr>\n",
       "  </thead>\n",
       "  <tbody>\n",
       "    <tr>\n",
       "      <th>0</th>\n",
       "      <td>2020</td>\n",
       "      <td>0</td>\n",
       "      <td>0</td>\n",
       "      <td>1</td>\n",
       "      <td>0.0</td>\n",
       "    </tr>\n",
       "    <tr>\n",
       "      <th>1</th>\n",
       "      <td>2020</td>\n",
       "      <td>1</td>\n",
       "      <td>0</td>\n",
       "      <td>0</td>\n",
       "      <td>0.0</td>\n",
       "    </tr>\n",
       "    <tr>\n",
       "      <th>2</th>\n",
       "      <td>2020</td>\n",
       "      <td>1</td>\n",
       "      <td>0</td>\n",
       "      <td>0</td>\n",
       "      <td>0.0</td>\n",
       "    </tr>\n",
       "    <tr>\n",
       "      <th>3</th>\n",
       "      <td>2020</td>\n",
       "      <td>0</td>\n",
       "      <td>0</td>\n",
       "      <td>1</td>\n",
       "      <td>0.0</td>\n",
       "    </tr>\n",
       "    <tr>\n",
       "      <th>4</th>\n",
       "      <td>2020</td>\n",
       "      <td>0</td>\n",
       "      <td>0</td>\n",
       "      <td>1</td>\n",
       "      <td>0.0</td>\n",
       "    </tr>\n",
       "    <tr>\n",
       "      <th>...</th>\n",
       "      <td>...</td>\n",
       "      <td>...</td>\n",
       "      <td>...</td>\n",
       "      <td>...</td>\n",
       "      <td>...</td>\n",
       "    </tr>\n",
       "    <tr>\n",
       "      <th>2644819</th>\n",
       "      <td>2023</td>\n",
       "      <td>1</td>\n",
       "      <td>0</td>\n",
       "      <td>0</td>\n",
       "      <td>0.0</td>\n",
       "    </tr>\n",
       "    <tr>\n",
       "      <th>2644820</th>\n",
       "      <td>2023</td>\n",
       "      <td>0</td>\n",
       "      <td>0</td>\n",
       "      <td>1</td>\n",
       "      <td>0.0</td>\n",
       "    </tr>\n",
       "    <tr>\n",
       "      <th>2644821</th>\n",
       "      <td>2023</td>\n",
       "      <td>0</td>\n",
       "      <td>0</td>\n",
       "      <td>1</td>\n",
       "      <td>0.0</td>\n",
       "    </tr>\n",
       "    <tr>\n",
       "      <th>2644822</th>\n",
       "      <td>2023</td>\n",
       "      <td>0</td>\n",
       "      <td>0</td>\n",
       "      <td>1</td>\n",
       "      <td>0.0</td>\n",
       "    </tr>\n",
       "    <tr>\n",
       "      <th>2644823</th>\n",
       "      <td>2023</td>\n",
       "      <td>1</td>\n",
       "      <td>0</td>\n",
       "      <td>0</td>\n",
       "      <td>0.0</td>\n",
       "    </tr>\n",
       "  </tbody>\n",
       "</table>\n",
       "<p>2644824 rows × 5 columns</p>\n",
       "</div>"
      ],
      "text/plain": [
       "         year  대전  세종  충남  EVT_CL_CD\n",
       "0        2020   0   0   1        0.0\n",
       "1        2020   1   0   0        0.0\n",
       "2        2020   1   0   0        0.0\n",
       "3        2020   0   0   1        0.0\n",
       "4        2020   0   0   1        0.0\n",
       "...       ...  ..  ..  ..        ...\n",
       "2644819  2023   1   0   0        0.0\n",
       "2644820  2023   0   0   1        0.0\n",
       "2644821  2023   0   0   1        0.0\n",
       "2644822  2023   0   0   1        0.0\n",
       "2644823  2023   1   0   0        0.0\n",
       "\n",
       "[2644824 rows x 5 columns]"
      ]
     },
     "execution_count": 56,
     "metadata": {},
     "output_type": "execute_result"
    }
   ],
   "source": [
    "df = df[['year','대전', '세종', '충남', 'EVT_CL_CD']]\n",
    "df"
   ]
  },
  {
   "cell_type": "markdown",
   "id": "35c3233f",
   "metadata": {},
   "source": [
    "## 데이터 분리"
   ]
  },
  {
   "cell_type": "code",
   "execution_count": 57,
   "id": "77660e36",
   "metadata": {},
   "outputs": [
    {
     "name": "stdout",
     "output_type": "stream",
     "text": [
      "(2644824, 4) (2644824,)\n"
     ]
    }
   ],
   "source": [
    "x = df.iloc[:, :4].values\n",
    "y = df.iloc[:, -1:].values\n",
    "\n",
    "y = y.ravel()\n",
    "print(x.shape, y.shape)"
   ]
  },
  {
   "cell_type": "code",
   "execution_count": 58,
   "id": "32f88983",
   "metadata": {},
   "outputs": [],
   "source": [
    "x_train, x_test, y_train, y_test = train_test_split(x, y, test_size=0.3, random_state=1)"
   ]
  },
  {
   "cell_type": "code",
   "execution_count": 60,
   "id": "7280d74e",
   "metadata": {
    "scrolled": true
   },
   "outputs": [],
   "source": [
    "train_set_feature = pd.DataFrame(x_train, columns=['year','대전', '세종', '충남'])\n",
    "train_set_label = pd.DataFrame(y_train, columns=['EVT_CL_CD'])\n",
    "train_set = pd.concat([train_set_feature, train_set_label], axis = 1)\n",
    "\n",
    "test_set_feature = pd.DataFrame(x_test, columns=['year','대전', '세종', '충남'])\n",
    "test_set_label = pd.DataFrame(y_test, columns=['EVT_CL_CD'])\n",
    "test_set = pd.concat([test_set_feature, test_set_label], axis = 1)"
   ]
  },
  {
   "cell_type": "markdown",
   "id": "d269eae4",
   "metadata": {},
   "source": [
    "## Smote"
   ]
  },
  {
   "cell_type": "code",
   "execution_count": 61,
   "id": "a18ec8dc",
   "metadata": {
    "scrolled": true
   },
   "outputs": [],
   "source": [
    "scaler = preprocessing.MinMaxScaler()\n",
    "\n",
    "train_sc = scaler.fit_transform(train_set)\n",
    "test_sc = scaler.transform(test_set)"
   ]
  },
  {
   "cell_type": "markdown",
   "id": "8d5eff89",
   "metadata": {},
   "source": [
    "## train data split"
   ]
  },
  {
   "cell_type": "code",
   "execution_count": 62,
   "id": "d99b33b9",
   "metadata": {},
   "outputs": [],
   "source": [
    "# train\n",
    "x_train_values = train_sc[:, :-1] # 독립변수 분리\n",
    "y_train_values = train_sc[:,-1] # 종속변수 분리\n",
    "\n",
    "# test\n",
    "x_test_values = test_sc[:, :-1] # 독립변수 분리\n",
    "y_test_values = test_sc[:,-1] # 종속변수 분리"
   ]
  },
  {
   "cell_type": "code",
   "execution_count": 63,
   "id": "0412bb3c",
   "metadata": {},
   "outputs": [
    {
     "name": "stdout",
     "output_type": "stream",
     "text": [
      "SMOTE 적용 전 학습용 피처/레이블 데이터 세트 :  (1851376, 4) (1851376,)\n",
      "SMOTE 적용 후 학습용 피처/레이블 데이터 세트 :  (3652992, 4) (3652992,)\n",
      "SMOTE 적용 후 레이블 값 분포: \n",
      " 0.0    1826496\n",
      "1.0    1826496\n",
      "dtype: int64\n"
     ]
    }
   ],
   "source": [
    "smote = SMOTE()\n",
    "x_train_over, y_train_over = smote.fit_resample(x_train_values, y_train_values)\n",
    "print('SMOTE 적용 전 학습용 피처/레이블 데이터 세트 : ', x_train_values.shape, y_train_values.shape)\n",
    "print('SMOTE 적용 후 학습용 피처/레이블 데이터 세트 : ', x_train_over.shape, y_train_over.shape)\n",
    "print('SMOTE 적용 후 레이블 값 분포: \\n', pd.Series(y_train_over).value_counts())"
   ]
  },
  {
   "cell_type": "markdown",
   "id": "4f5943dc",
   "metadata": {},
   "source": [
    "# Logistic Regression"
   ]
  },
  {
   "cell_type": "code",
   "execution_count": 64,
   "id": "0a3c73d6",
   "metadata": {},
   "outputs": [
    {
     "data": {
      "text/plain": [
       "LogisticRegression()"
      ]
     },
     "execution_count": 64,
     "metadata": {},
     "output_type": "execute_result"
    }
   ],
   "source": [
    "from sklearn.linear_model import LogisticRegression\n",
    "\n",
    "lrc = LogisticRegression()\n",
    "lrc.fit(x_train_over, y_train_over)"
   ]
  },
  {
   "cell_type": "code",
   "execution_count": 65,
   "id": "4ab03b69",
   "metadata": {},
   "outputs": [
    {
     "name": "stdout",
     "output_type": "stream",
     "text": [
      "accuracy_score : 0.4117371270707091\n",
      "f1_score : 0.03429926303549926\n",
      "precision :  0.017534507377439314\n",
      "recall : 0.781317749080969\n"
     ]
    }
   ],
   "source": [
    "predict3 = lrc.predict(x_test_values)\n",
    "print('accuracy_score :', accuracy_score(y_test_values ,predict3))\n",
    "print('f1_score :', f1_score(y_test_values, predict3))\n",
    "print('precision : ', precision_score(y_test_values, predict3))\n",
    "print('recall :', recall_score(y_test_values, predict3))"
   ]
  },
  {
   "cell_type": "code",
   "execution_count": 66,
   "id": "793f7c4b",
   "metadata": {},
   "outputs": [
    {
     "data": {
      "text/plain": [
       "array([[318403, 464436],\n",
       "       [  2320,   8289]], dtype=int64)"
      ]
     },
     "execution_count": 66,
     "metadata": {},
     "output_type": "execute_result"
    }
   ],
   "source": [
    "confusion_matrix(y_test_values, predict3)"
   ]
  },
  {
   "cell_type": "markdown",
   "id": "56673402",
   "metadata": {},
   "source": [
    "# Decision Tree"
   ]
  },
  {
   "cell_type": "code",
   "execution_count": 67,
   "id": "d1e933d8",
   "metadata": {},
   "outputs": [
    {
     "data": {
      "text/plain": [
       "DecisionTreeClassifier()"
      ]
     },
     "execution_count": 67,
     "metadata": {},
     "output_type": "execute_result"
    }
   ],
   "source": [
    "from sklearn.tree import DecisionTreeClassifier\n",
    "\n",
    "dsc = DecisionTreeClassifier()\n",
    "dsc.fit(x_train_over, y_train_over)"
   ]
  },
  {
   "cell_type": "code",
   "execution_count": 68,
   "id": "0b60a3e1",
   "metadata": {},
   "outputs": [
    {
     "name": "stdout",
     "output_type": "stream",
     "text": [
      "accuracy_score : 0.4123193958520281\n",
      "f1_score : 0.03442806261906735\n",
      "precision :  0.017600691070078826\n",
      "recall : 0.78357997926289\n"
     ]
    }
   ],
   "source": [
    "predict1 = dsc.predict(x_test_values)\n",
    "print('accuracy_score :', accuracy_score(y_test_values ,predict1))\n",
    "print('f1_score :', f1_score(y_test_values, predict1))\n",
    "print('precision : ', precision_score(y_test_values, predict1))\n",
    "print('recall :', recall_score(y_test_values, predict1))"
   ]
  },
  {
   "cell_type": "code",
   "execution_count": 69,
   "id": "ccde81ef",
   "metadata": {},
   "outputs": [
    {
     "data": {
      "text/plain": [
       "array([[318841, 463998],\n",
       "       [  2296,   8313]], dtype=int64)"
      ]
     },
     "execution_count": 69,
     "metadata": {},
     "output_type": "execute_result"
    }
   ],
   "source": [
    "confusion_matrix(y_test, predict1)"
   ]
  },
  {
   "cell_type": "markdown",
   "id": "04d1c9af",
   "metadata": {},
   "source": [
    "# Random Forest"
   ]
  },
  {
   "cell_type": "code",
   "execution_count": 75,
   "id": "99f9ef5f",
   "metadata": {},
   "outputs": [
    {
     "data": {
      "text/plain": [
       "RandomForestClassifier()"
      ]
     },
     "execution_count": 75,
     "metadata": {},
     "output_type": "execute_result"
    }
   ],
   "source": [
    "from sklearn.ensemble import RandomForestClassifier\n",
    "\n",
    "clf = RandomForestClassifier()\n",
    "clf.fit(x_train_over,y_train_over)"
   ]
  },
  {
   "cell_type": "code",
   "execution_count": 76,
   "id": "8e1871c0",
   "metadata": {},
   "outputs": [
    {
     "name": "stdout",
     "output_type": "stream",
     "text": [
      "accuracy_score : 0.4123193958520281\n",
      "f1_score : 0.03442806261906735\n",
      "precision :  0.017600691070078826\n",
      "recall : 0.78357997926289\n"
     ]
    }
   ],
   "source": [
    "predict2 = clf.predict(x_test_values)\n",
    "print('accuracy_score :', accuracy_score(y_test_values ,predict2))\n",
    "print('f1_score :', f1_score(y_test_values, predict2))\n",
    "print('precision : ', precision_score(y_test_values, predict2))\n",
    "print('recall :', recall_score(y_test_values, predict2))"
   ]
  },
  {
   "cell_type": "code",
   "execution_count": 77,
   "id": "c0aeb97c",
   "metadata": {},
   "outputs": [
    {
     "data": {
      "text/plain": [
       "array([[318841, 463998],\n",
       "       [  2296,   8313]], dtype=int64)"
      ]
     },
     "execution_count": 77,
     "metadata": {},
     "output_type": "execute_result"
    }
   ],
   "source": [
    "confusion_matrix(y_test, predict1)"
   ]
  },
  {
   "cell_type": "markdown",
   "id": "acf94cac",
   "metadata": {},
   "source": [
    "# 변수 추가해서 넣기"
   ]
  },
  {
   "cell_type": "code",
   "execution_count": 82,
   "id": "50ec830b",
   "metadata": {},
   "outputs": [
    {
     "data": {
      "text/html": [
       "<div>\n",
       "<style scoped>\n",
       "    .dataframe tbody tr th:only-of-type {\n",
       "        vertical-align: middle;\n",
       "    }\n",
       "\n",
       "    .dataframe tbody tr th {\n",
       "        vertical-align: top;\n",
       "    }\n",
       "\n",
       "    .dataframe thead th {\n",
       "        text-align: right;\n",
       "    }\n",
       "</style>\n",
       "<table border=\"1\" class=\"dataframe\">\n",
       "  <thead>\n",
       "    <tr style=\"text-align: right;\">\n",
       "      <th></th>\n",
       "      <th>year</th>\n",
       "      <th>1</th>\n",
       "      <th>2</th>\n",
       "      <th>3</th>\n",
       "      <th>대전</th>\n",
       "      <th>세종</th>\n",
       "      <th>충남</th>\n",
       "      <th>EVT_CL_CD</th>\n",
       "    </tr>\n",
       "  </thead>\n",
       "  <tbody>\n",
       "    <tr>\n",
       "      <th>0</th>\n",
       "      <td>2020</td>\n",
       "      <td>1</td>\n",
       "      <td>0</td>\n",
       "      <td>0</td>\n",
       "      <td>0</td>\n",
       "      <td>0</td>\n",
       "      <td>1</td>\n",
       "      <td>0.0</td>\n",
       "    </tr>\n",
       "    <tr>\n",
       "      <th>1</th>\n",
       "      <td>2020</td>\n",
       "      <td>0</td>\n",
       "      <td>0</td>\n",
       "      <td>1</td>\n",
       "      <td>1</td>\n",
       "      <td>0</td>\n",
       "      <td>0</td>\n",
       "      <td>0.0</td>\n",
       "    </tr>\n",
       "    <tr>\n",
       "      <th>2</th>\n",
       "      <td>2020</td>\n",
       "      <td>1</td>\n",
       "      <td>0</td>\n",
       "      <td>0</td>\n",
       "      <td>1</td>\n",
       "      <td>0</td>\n",
       "      <td>0</td>\n",
       "      <td>0.0</td>\n",
       "    </tr>\n",
       "    <tr>\n",
       "      <th>3</th>\n",
       "      <td>2020</td>\n",
       "      <td>0</td>\n",
       "      <td>0</td>\n",
       "      <td>1</td>\n",
       "      <td>0</td>\n",
       "      <td>0</td>\n",
       "      <td>1</td>\n",
       "      <td>0.0</td>\n",
       "    </tr>\n",
       "    <tr>\n",
       "      <th>4</th>\n",
       "      <td>2020</td>\n",
       "      <td>0</td>\n",
       "      <td>1</td>\n",
       "      <td>0</td>\n",
       "      <td>0</td>\n",
       "      <td>0</td>\n",
       "      <td>1</td>\n",
       "      <td>0.0</td>\n",
       "    </tr>\n",
       "    <tr>\n",
       "      <th>...</th>\n",
       "      <td>...</td>\n",
       "      <td>...</td>\n",
       "      <td>...</td>\n",
       "      <td>...</td>\n",
       "      <td>...</td>\n",
       "      <td>...</td>\n",
       "      <td>...</td>\n",
       "      <td>...</td>\n",
       "    </tr>\n",
       "    <tr>\n",
       "      <th>2644819</th>\n",
       "      <td>2023</td>\n",
       "      <td>1</td>\n",
       "      <td>0</td>\n",
       "      <td>0</td>\n",
       "      <td>1</td>\n",
       "      <td>0</td>\n",
       "      <td>0</td>\n",
       "      <td>0.0</td>\n",
       "    </tr>\n",
       "    <tr>\n",
       "      <th>2644820</th>\n",
       "      <td>2023</td>\n",
       "      <td>0</td>\n",
       "      <td>1</td>\n",
       "      <td>0</td>\n",
       "      <td>0</td>\n",
       "      <td>0</td>\n",
       "      <td>1</td>\n",
       "      <td>0.0</td>\n",
       "    </tr>\n",
       "    <tr>\n",
       "      <th>2644821</th>\n",
       "      <td>2023</td>\n",
       "      <td>0</td>\n",
       "      <td>0</td>\n",
       "      <td>1</td>\n",
       "      <td>0</td>\n",
       "      <td>0</td>\n",
       "      <td>1</td>\n",
       "      <td>0.0</td>\n",
       "    </tr>\n",
       "    <tr>\n",
       "      <th>2644822</th>\n",
       "      <td>2023</td>\n",
       "      <td>0</td>\n",
       "      <td>0</td>\n",
       "      <td>1</td>\n",
       "      <td>0</td>\n",
       "      <td>0</td>\n",
       "      <td>1</td>\n",
       "      <td>0.0</td>\n",
       "    </tr>\n",
       "    <tr>\n",
       "      <th>2644823</th>\n",
       "      <td>2023</td>\n",
       "      <td>1</td>\n",
       "      <td>0</td>\n",
       "      <td>0</td>\n",
       "      <td>1</td>\n",
       "      <td>0</td>\n",
       "      <td>0</td>\n",
       "      <td>0.0</td>\n",
       "    </tr>\n",
       "  </tbody>\n",
       "</table>\n",
       "<p>2644824 rows × 8 columns</p>\n",
       "</div>"
      ],
      "text/plain": [
       "         year  1  2  3  대전  세종  충남  EVT_CL_CD\n",
       "0        2020  1  0  0   0   0   1        0.0\n",
       "1        2020  0  0  1   1   0   0        0.0\n",
       "2        2020  1  0  0   1   0   0        0.0\n",
       "3        2020  0  0  1   0   0   1        0.0\n",
       "4        2020  0  1  0   0   0   1        0.0\n",
       "...       ... .. .. ..  ..  ..  ..        ...\n",
       "2644819  2023  1  0  0   1   0   0        0.0\n",
       "2644820  2023  0  1  0   0   0   1        0.0\n",
       "2644821  2023  0  0  1   0   0   1        0.0\n",
       "2644822  2023  0  0  1   0   0   1        0.0\n",
       "2644823  2023  1  0  0   1   0   0        0.0\n",
       "\n",
       "[2644824 rows x 8 columns]"
      ]
     },
     "execution_count": 82,
     "metadata": {},
     "output_type": "execute_result"
    }
   ],
   "source": [
    "df2 = data[['year','1','2','3','대전', '세종', '충남', 'EVT_CL_CD']]\n",
    "df2"
   ]
  },
  {
   "cell_type": "markdown",
   "id": "c11645f2",
   "metadata": {},
   "source": [
    "## 데이터 분리"
   ]
  },
  {
   "cell_type": "code",
   "execution_count": 83,
   "id": "188d9fff",
   "metadata": {},
   "outputs": [
    {
     "name": "stdout",
     "output_type": "stream",
     "text": [
      "(2644824, 7) (2644824,)\n"
     ]
    }
   ],
   "source": [
    "x = df2.iloc[:, :7].values\n",
    "y = df2.iloc[:, -1:].values\n",
    "\n",
    "y = y.ravel()\n",
    "print(x.shape, y.shape)"
   ]
  },
  {
   "cell_type": "code",
   "execution_count": 84,
   "id": "0df18074",
   "metadata": {},
   "outputs": [],
   "source": [
    "x_train, x_test, y_train, y_test = train_test_split(x, y, test_size=0.3, random_state=2)\n",
    "\n",
    "train_set_feature = pd.DataFrame(x_train, columns=['year','1','2','3','대전', '세종', '충남'])\n",
    "train_set_label = pd.DataFrame(y_train, columns=['EVT_CL_CD'])\n",
    "train_set = pd.concat([train_set_feature, train_set_label], axis = 1)\n",
    "\n",
    "test_set_feature = pd.DataFrame(x_test, columns=['year','1','2','3','대전', '세종', '충남'])\n",
    "test_set_label = pd.DataFrame(y_test, columns=['EVT_CL_CD'])\n",
    "test_set = pd.concat([test_set_feature, test_set_label], axis = 1)"
   ]
  },
  {
   "cell_type": "markdown",
   "id": "f2e5ef7d",
   "metadata": {},
   "source": [
    "## Smote"
   ]
  },
  {
   "cell_type": "code",
   "execution_count": 85,
   "id": "4089b78f",
   "metadata": {},
   "outputs": [],
   "source": [
    "scaler = preprocessing.MinMaxScaler()\n",
    "\n",
    "train_sc = scaler.fit_transform(train_set)\n",
    "test_sc = scaler.transform(test_set)"
   ]
  },
  {
   "cell_type": "markdown",
   "id": "2eeef62a",
   "metadata": {},
   "source": [
    "## train data split"
   ]
  },
  {
   "cell_type": "code",
   "execution_count": 87,
   "id": "2f97178c",
   "metadata": {},
   "outputs": [
    {
     "name": "stdout",
     "output_type": "stream",
     "text": [
      "SMOTE 적용 전 학습용 피처/레이블 데이터 세트 :  (1851376, 7) (1851376,)\n",
      "SMOTE 적용 후 학습용 피처/레이블 데이터 세트 :  (3653064, 7) (3653064,)\n",
      "SMOTE 적용 후 레이블 값 분포: \n",
      " 0.0    1826532\n",
      "1.0    1826532\n",
      "dtype: int64\n"
     ]
    }
   ],
   "source": [
    "# train\n",
    "x_train_values = train_sc[:, :-1] # 독립변수 분리\n",
    "y_train_values = train_sc[:,-1] # 종속변수 분리\n",
    "\n",
    "# test\n",
    "x_test_values = test_sc[:, :-1] # 독립변수 분리\n",
    "y_test_values = test_sc[:,-1] # 종속변수 분리\n",
    "\n",
    "smote = SMOTE()\n",
    "x_train_over, y_train_over = smote.fit_resample(x_train_values, y_train_values)\n",
    "print('SMOTE 적용 전 학습용 피처/레이블 데이터 세트 : ', x_train_values.shape, y_train_values.shape)\n",
    "print('SMOTE 적용 후 학습용 피처/레이블 데이터 세트 : ', x_train_over.shape, y_train_over.shape)\n",
    "print('SMOTE 적용 후 레이블 값 분포: \\n', pd.Series(y_train_over).value_counts())"
   ]
  },
  {
   "cell_type": "markdown",
   "id": "3d0dc2b9",
   "metadata": {},
   "source": [
    "# Logistic Regression"
   ]
  },
  {
   "cell_type": "code",
   "execution_count": 89,
   "id": "2469dc3b",
   "metadata": {},
   "outputs": [
    {
     "data": {
      "text/plain": [
       "LogisticRegression()"
      ]
     },
     "execution_count": 89,
     "metadata": {},
     "output_type": "execute_result"
    }
   ],
   "source": [
    "from sklearn.linear_model import LogisticRegression\n",
    "\n",
    "lrc = LogisticRegression()\n",
    "lrc.fit(x_train_over, y_train_over)"
   ]
  },
  {
   "cell_type": "code",
   "execution_count": 90,
   "id": "9ae73217",
   "metadata": {
    "scrolled": true
   },
   "outputs": [
    {
     "name": "stdout",
     "output_type": "stream",
     "text": [
      "accuracy_score : 0.6198515844768655\n",
      "f1_score : 0.04657322940176128\n",
      "precision :  0.024097449602082974\n",
      "recall : 0.6920620009394082\n"
     ]
    }
   ],
   "source": [
    "predict3 = lrc.predict(x_test_values)\n",
    "print('accuracy_score :', accuracy_score(y_test_values ,predict3))\n",
    "print('f1_score :', f1_score(y_test_values, predict3))\n",
    "print('precision : ', precision_score(y_test_values, predict3))\n",
    "print('recall :', recall_score(y_test_values, predict3))"
   ]
  },
  {
   "cell_type": "code",
   "execution_count": 105,
   "id": "7059201a",
   "metadata": {},
   "outputs": [
    {
     "data": {
      "text/plain": [
       "array([[484453, 298350],\n",
       "       [  3278,   7367]], dtype=int64)"
      ]
     },
     "execution_count": 105,
     "metadata": {},
     "output_type": "execute_result"
    }
   ],
   "source": [
    "confusion_matrix(y_test, predict3)"
   ]
  },
  {
   "cell_type": "markdown",
   "id": "83c91d78",
   "metadata": {},
   "source": [
    "# Decision Tree"
   ]
  },
  {
   "cell_type": "code",
   "execution_count": 91,
   "id": "aabf1776",
   "metadata": {},
   "outputs": [
    {
     "name": "stdout",
     "output_type": "stream",
     "text": [
      "accuracy_score : 0.620101128240288\n",
      "f1_score : 0.04659636515457266\n",
      "precision :  0.024109951328403986\n",
      "recall : 0.6919680601221231\n"
     ]
    }
   ],
   "source": [
    "from sklearn.tree import DecisionTreeClassifier\n",
    "\n",
    "dsc = DecisionTreeClassifier()\n",
    "dsc.fit(x_train_over, y_train_over)\n",
    "\n",
    "predict1 = dsc.predict(x_test_values)\n",
    "print('accuracy_score :', accuracy_score(y_test_values ,predict1))\n",
    "print('f1_score :', f1_score(y_test_values, predict1))\n",
    "print('precision : ', precision_score(y_test_values, predict1))\n",
    "print('recall :', recall_score(y_test_values, predict1))"
   ]
  },
  {
   "cell_type": "code",
   "execution_count": 92,
   "id": "c56d876f",
   "metadata": {},
   "outputs": [
    {
     "data": {
      "text/plain": [
       "array([[484652, 298151],\n",
       "       [  3279,   7366]], dtype=int64)"
      ]
     },
     "execution_count": 92,
     "metadata": {},
     "output_type": "execute_result"
    }
   ],
   "source": [
    "confusion_matrix(y_test, predict1)"
   ]
  },
  {
   "cell_type": "markdown",
   "id": "84c9d072",
   "metadata": {},
   "source": [
    "# Random Forest"
   ]
  },
  {
   "cell_type": "code",
   "execution_count": 103,
   "id": "a1fb3b8d",
   "metadata": {},
   "outputs": [
    {
     "name": "stdout",
     "output_type": "stream",
     "text": [
      "accuracy_score : 0.620101128240288\n",
      "f1_score : 0.04659636515457266\n",
      "precision :  0.024109951328403986\n",
      "recall : 0.6919680601221231\n"
     ]
    }
   ],
   "source": [
    "from sklearn.ensemble import RandomForestClassifier\n",
    "\n",
    "clf = RandomForestClassifier()\n",
    "clf.fit(x_train_over,y_train_over)\n",
    "\n",
    "predict2 = clf.predict(x_test_values)\n",
    "print('accuracy_score :', accuracy_score(y_test_values ,predict2))\n",
    "print('f1_score :', f1_score(y_test_values, predict2))\n",
    "print('precision : ', precision_score(y_test_values, predict2))\n",
    "print('recall :', recall_score(y_test_values, predict2))"
   ]
  },
  {
   "cell_type": "code",
   "execution_count": 104,
   "id": "77d767b1",
   "metadata": {},
   "outputs": [
    {
     "data": {
      "text/plain": [
       "array([[484652, 298151],\n",
       "       [  3279,   7366]], dtype=int64)"
      ]
     },
     "execution_count": 104,
     "metadata": {},
     "output_type": "execute_result"
    }
   ],
   "source": [
    "confusion_matrix(y_test, predict2)"
   ]
  }
 ],
 "metadata": {
  "kernelspec": {
   "display_name": "Python 3 (ipykernel)",
   "language": "python",
   "name": "python3"
  },
  "language_info": {
   "codemirror_mode": {
    "name": "ipython",
    "version": 3
   },
   "file_extension": ".py",
   "mimetype": "text/x-python",
   "name": "python",
   "nbconvert_exporter": "python",
   "pygments_lexer": "ipython3",
   "version": "3.9.12"
  }
 },
 "nbformat": 4,
 "nbformat_minor": 5
}
